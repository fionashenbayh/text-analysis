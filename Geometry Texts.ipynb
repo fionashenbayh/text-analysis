{
 "cells": [
  {
   "cell_type": "markdown",
   "metadata": {},
   "source": [
    "# Exploring text with geometry\n",
    "\n",
    "In this lesson, we will learn how to:\n",
    "\n",
    "- create a document-term matrix\n",
    "\n",
    "- compare texts using geometry tools\n",
    "\n",
    "- visualize distance between texts\n",
    "\n",
    "- cluster texts based on the distance between them\n",
    "\n",
    "Let's get started by importing the corpus of constitutions we worked with last week."
   ]
  },
  {
   "cell_type": "code",
   "execution_count": 299,
   "metadata": {},
   "outputs": [
    {
     "data": {
      "text/plain": [
       "['Constitution-Kenya-1983.txt',\n",
       " 'Constitution-Ghana-1957.txt',\n",
       " 'Constitution-Sudan-1958.txt',\n",
       " 'Constitution-Chad-1962.txt',\n",
       " 'Constitution-Madagascar-1962.txt',\n",
       " 'Constitution-Cameroon-1961.txt',\n",
       " 'Constitution-Mali-1960.txt',\n",
       " 'Constitution-Ghana-1969.txt',\n",
       " 'Constitution-Rwanda-1962.txt',\n",
       " 'Constitution-Liberia-1955.txt',\n",
       " '.DS_Store',\n",
       " 'Constitution-Ghana-1992.txt',\n",
       " 'Constitution-Ghana-1979.txt',\n",
       " 'Constitution-Guinea-1958.txt',\n",
       " 'Constitution-DRC-1964.txt',\n",
       " 'Constitution-Kenya-1987.txt',\n",
       " 'Constitution-Mauritania-1961.txt',\n",
       " 'Constitution-SierraLeone-1991.txt',\n",
       " 'Constitution-SierraLeone-1978.txt',\n",
       " 'Constitution-Uganda-1995.txt',\n",
       " 'Constitution-Zambia-1991.txt',\n",
       " 'Constitution-Malawi-1978.txt',\n",
       " 'Constitution-Ethiopia-1955.txt',\n",
       " 'Constitution-Nigeria-1961.txt',\n",
       " 'Constitution-Niger-1960.txt',\n",
       " 'Constitution-Malawi-1974.txt',\n",
       " 'Constitution-Tanzania-1962.txt',\n",
       " 'Constitution-Uganda-1971.txt',\n",
       " 'Constitution-Zambia-1974.txt',\n",
       " 'Constitution-SierraLeone-1966.txt',\n",
       " 'Constitution-Tanzania-1977.txt',\n",
       " 'Constitution-SierraLeone-1971.txt',\n",
       " 'Constitution-Somalia-1960.txt',\n",
       " 'Constitution-Malawi-1966.txt',\n",
       " 'Constitution-Uganda-1963.txt',\n",
       " 'Constitution-SierraLeone-1974.txt',\n",
       " 'Constitution-Burundi-1962.txt',\n",
       " 'Constitution-Gabon-1961.txt',\n",
       " 'Constitution-SierraLeone-1961.txt',\n",
       " 'Constitution-Zambia-1973.txt',\n",
       " 'Constitution-Kenya-2001.txt',\n",
       " 'Constitution-SouthAfrica-1961.txt',\n",
       " 'Constitution-Tanzania-1965.txt',\n",
       " 'Constitution-Malawi-1971.txt',\n",
       " 'Constitution-CAR-1962.txt',\n",
       " 'Constitution-Zambia-1970.txt',\n",
       " 'Constitution-Zambia-1964.txt',\n",
       " 'Constitution-Malawi-1964.txt',\n",
       " 'Constitution-Ghana-1960.txt',\n",
       " 'Constitution-Kenya-1963.txt',\n",
       " 'Constitution-Congo-1963.txt',\n",
       " 'Constitution-IvoryCoast-1963.txt',\n",
       " 'Constitution-Togo-1963.txt',\n",
       " 'Constitution-Ghana-1964.txt',\n",
       " 'Constitution-Kenya-1967.txt',\n",
       " 'Constitution-Senegal-1963.txt',\n",
       " 'Constitution-Ghana-1972.txt']"
      ]
     },
     "execution_count": 299,
     "metadata": {},
     "output_type": "execute_result"
    }
   ],
   "source": [
    "import os\n",
    "import nltk\n",
    "\n",
    "\n",
    "from nltk.corpus import CategorizedPlaintextCorpusReader\n",
    "corpus_root = \"/Users/fionashenbayh/Documents/2019/2019 Teaching/Comparative law and courts/Constitutions/\"\n",
    "constitutions = CategorizedPlaintextCorpusReader(corpus_root, \n",
    "                                             fileids=r'Constitution-(\\w+)-\\d{4}\\.txt',  #regular expressions\n",
    "                                             cat_pattern=r'Constitution-(\\w+)-\\d{4}\\.txt',\n",
    "                                             encoding='latin-1')\n",
    "\n",
    "\n",
    "\n",
    "constitutions.abspaths()\n",
    "\n",
    "filepath = '/Users/fionashenbayh/Documents/2019/2019 Teaching/Comparative law and courts/Constitutions/'\n",
    "\n",
    "filename = [file for file in os.listdir(corpus_root)]\n",
    "\n",
    "filename"
   ]
  },
  {
   "cell_type": "markdown",
   "metadata": {},
   "source": [
    "## Creating a document-term matrix\n",
    "\n",
    "In order to perform machine learning on text documents, we first need to turn our text content into numerical feature vectors. Word (or n-gram) frequencies are typical units of analysis when working with text collections. It may come as a surprise that reducing a text to a list of word frequencies retains useful information, but practice has shown this to be the case. Treating texts as a list of word frequencies (a vector) also makes available a vast range of mathematical tools developed for studying and manipulating vectors.\n",
    "\n",
    "In what follows, we will be working with the [CountVectorizer](http://scikit-learn.sourceforge.net/dev/modules/generated/sklearn.feature_extraction.text.CountVectorizer.html) class from the scikit-learn package. CountVectorizer gather word frequencies (or term frequencies) associated with texts into a document-term matrix.\n",
    "\n",
    "### Texts as vectors and matrices\n",
    "\n",
    "What does this vector look like? The most intuitive approach uses the bag of words assumption, i.e. counts each word individually.\n",
    "\n",
    "- Create a dictionary of word features that assigns an integer ID to each word ( *W* ) occurring in any document, _d_\n",
    "\n",
    "- For each document ( _i_ ), count the number of occurrences of each word ( *W* ) \n",
    "\n",
    "- Create a vector X_d[ *i, j* ], where _i_ counts the number of times each word from the dictionary appears in a given document, d, and *j* is the index of that word in the dictionary of word features\n",
    "\n",
    "Our document-term matrix will consist of all of the vectors X_d, i.e. a vector *X* for each document _d_ in our corpus."
   ]
  },
  {
   "cell_type": "code",
   "execution_count": 241,
   "metadata": {},
   "outputs": [],
   "source": [
    "import numpy as np  # a conventional alias for numpy, this package allows us to perform array operations on our matrix\n",
    "\n",
    "from sklearn.feature_extraction.text import CountVectorizer"
   ]
  },
  {
   "cell_type": "markdown",
   "metadata": {},
   "source": [
    "### CountVectorizer Class\n",
    "\n",
    "The CountVectorizer class will create a document-term matrix using our corpus of constitutions. CountVectorizer is customizable according to the following specifications.\n",
    "\n",
    "- <span style=\"color:blue\"> **encoding** </span> : ‘utf-8’ by default\n",
    "- <span style=\"color:blue\"> **lowercase** </span> : (default <span style=\"color:green\"> **True** </span> ) convert all text to lowercase before tokenizing\n",
    "- <span style=\"color:blue\"> **stop_words** </span> : custom list of “stop words”, if ‘english’, a built-in stop word list for English is used\n",
    "- <span style=\"color:blue\"> **mind_df** </span> : (default <span style=\"color:green\"> __1__ </span> ) remove terms from the vocabulary that occur in fewer than <span style=\"color:green\"> **min_df** </span> documents (in a large corpus this may be set to <span style=\"color:green\"> **15** </span> or higher to eliminate very rare words)\n",
    "- <span style=\"color:blue\"> **vocabulary** </span> :  ignore words that do not appear in the provided list of words\n",
    "- <span style=\"color:blue\"> **strip_accents** </span> : remove accents\n",
    "- <span style=\"color:blue\"> **token_pattern** </span> : (default <span style=\"color:green\"> **u'(?u)\\b\\w\\w+\\b'** </span> ) regular expression identifying tokens. By default, words that consist of a single character (e.g., ‘a’, ‘2’) are ignored, setting token_pattern to '(?u)\\b\\w+\\b' will include these tokens\n",
    "- <span style=\"color:blue\"> **tokenizer** </span> : (default unused) use a custom function for tokenizing\n",
    "- <span style=\"color:blue\"> **decode_error** </span> : (default <span style=\"color:green\"> **strict** </span>) : Instruction on what to do if a byte sequence is given to analyze that contains characters not of the given encoding; by default, it is ‘strict’, meaning that a UnicodeDecodeError will be raised, but other values are ‘ignore’ and ‘replace’"
   ]
  },
  {
   "cell_type": "code",
   "execution_count": 264,
   "metadata": {},
   "outputs": [],
   "source": [
    "vectorizer = CountVectorizer(input='filename', \n",
    "                             encoding= 'ISO-8859-1',\n",
    "                             stop_words='english',\n",
    "                             min_df = 10,\n",
    "                             decode_error='ignore')\n",
    "\n",
    "dtm = vectorizer.fit_transform(raw_documents=constitutions.abspaths())  # .abspaths() provides the absolute filepath to every document in our corpus\n",
    "\n",
    "vocab = vectorizer.get_feature_names()  # a list"
   ]
  },
  {
   "cell_type": "markdown",
   "metadata": {},
   "source": [
    "We now have a document-term matrix (dtm) and a vocabulary list (vocab)! \n",
    "\n",
    "Let's take a look at what we have created."
   ]
  },
  {
   "cell_type": "code",
   "execution_count": 266,
   "metadata": {
    "scrolled": true
   },
   "outputs": [
    {
     "name": "stdout",
     "output_type": "stream",
     "text": [
      "  (0, 1187)\t1\n",
      "  (0, 2162)\t1\n",
      "  (0, 1962)\t1\n",
      "  (0, 1006)\t1\n",
      "  (0, 27)\t1\n",
      "  (0, 2129)\t1\n",
      "  (0, 582)\t1\n",
      "  (0, 2116)\t1\n",
      "  (0, 2017)\t1\n",
      "  (0, 1134)\t1\n",
      "  (0, 782)\t1\n",
      "  (0, 365)\t1\n",
      "  (0, 1521)\t1\n",
      "  (0, 1680)\t1\n",
      "  (0, 1388)\t1\n",
      "  (0, 1673)\t1\n",
      "  (0, 1045)\t1\n",
      "  (0, 194)\t1\n",
      "  (0, 1004)\t1\n",
      "  (0, 26)\t1\n",
      "  (0, 2331)\t1\n",
      "  (0, 196)\t1\n",
      "  (0, 25)\t1\n",
      "  (0, 1641)\t1\n",
      "  (0, 2095)\t1\n",
      "  :\t:\n",
      "  (55, 397)\t233\n",
      "  (55, 1583)\t186\n",
      "  (55, 2451)\t3\n",
      "  (55, 796)\t26\n",
      "  (55, 2454)\t2\n",
      "  (55, 827)\t7\n",
      "  (55, 1326)\t4\n",
      "  (55, 767)\t1\n",
      "  (55, 2244)\t3\n",
      "  (55, 947)\t2\n",
      "  (55, 1728)\t1\n",
      "  (55, 2135)\t23\n",
      "  (55, 1182)\t3\n",
      "  (55, 1232)\t19\n",
      "  (55, 1741)\t289\n",
      "  (55, 1259)\t2\n",
      "  (55, 874)\t2\n",
      "  (55, 736)\t6\n",
      "  (55, 469)\t4\n",
      "  (55, 593)\t5\n",
      "  (55, 1804)\t6\n",
      "  (55, 1391)\t4\n",
      "  (55, 1405)\t1\n",
      "  (55, 1419)\t1\n",
      "  (55, 697)\t194\n"
     ]
    }
   ],
   "source": [
    "dtm\n",
    "print(dtm)"
   ]
  },
  {
   "cell_type": "code",
   "execution_count": 249,
   "metadata": {},
   "outputs": [
    {
     "data": {
      "text/plain": [
       "(56, 2564)"
      ]
     },
     "execution_count": 249,
     "metadata": {},
     "output_type": "execute_result"
    }
   ],
   "source": [
    "dtm.shape # dimensions of the matrix -- what do you notice about the size of this object?"
   ]
  },
  {
   "cell_type": "code",
   "execution_count": 250,
   "metadata": {},
   "outputs": [
    {
     "data": {
      "text/plain": [
       "(list, 2564)"
      ]
     },
     "execution_count": 250,
     "metadata": {},
     "output_type": "execute_result"
    }
   ],
   "source": [
    "type(vocab), len(vocab) # what do you notice about the length of vocab?"
   ]
  },
  {
   "cell_type": "code",
   "execution_count": 254,
   "metadata": {},
   "outputs": [
    {
     "data": {
      "text/plain": [
       "['able',\n",
       " 'abolish',\n",
       " 'abolished',\n",
       " 'abolition',\n",
       " 'abroad',\n",
       " 'absence',\n",
       " 'absent',\n",
       " 'absolute',\n",
       " 'ac',\n",
       " 'accepted',\n",
       " 'accepts',\n",
       " 'access',\n",
       " 'accompanied',\n",
       " 'accordance',\n",
       " 'accorded',\n",
       " 'according',\n",
       " 'accordingly',\n",
       " 'account',\n",
       " 'accounts',\n",
       " 'accredit',\n",
       " 'accredited',\n",
       " 'accused',\n",
       " 'acquired',\n",
       " 'acquires',\n",
       " 'acquisition',\n",
       " 'acquittal',\n",
       " 'acquitted',\n",
       " 'act',\n",
       " 'acted',\n",
       " 'acting',\n",
       " 'action',\n",
       " 'actions',\n",
       " 'active',\n",
       " 'activities',\n",
       " 'activity',\n",
       " 'acts',\n",
       " 'ad',\n",
       " 'adaptations',\n",
       " 'addicted',\n",
       " 'addition',\n",
       " 'additional',\n",
       " 'address',\n",
       " 'addressed',\n",
       " 'adequate',\n",
       " 'adjourn',\n",
       " 'adjourned',\n",
       " 'adjournment',\n",
       " 'adjudged',\n",
       " 'adjudicating',\n",
       " 'administer',\n",
       " 'administered',\n",
       " 'administration',\n",
       " 'administrations',\n",
       " 'administrative',\n",
       " 'admitted',\n",
       " 'adopt',\n",
       " 'adopted',\n",
       " 'adoption',\n",
       " 'advance',\n",
       " 'advanced',\n",
       " 'advances',\n",
       " 'advantage',\n",
       " 'advantageous',\n",
       " 'advantages',\n",
       " 'advice',\n",
       " 'advise',\n",
       " 'adviser',\n",
       " 'advises',\n",
       " 'advising',\n",
       " 'advisory',\n",
       " 'advocate',\n",
       " 'advocates',\n",
       " 'affairs',\n",
       " 'affect',\n",
       " 'affected',\n",
       " 'affecting',\n",
       " 'affirm',\n",
       " 'affirmation',\n",
       " 'afford',\n",
       " 'afforded',\n",
       " 'affording',\n",
       " 'aforesaid',\n",
       " 'africa',\n",
       " 'african',\n",
       " 'age',\n",
       " 'agenda',\n",
       " 'aggrieved',\n",
       " 'agree',\n",
       " 'agreed',\n",
       " 'agreement',\n",
       " 'agreements',\n",
       " 'agricultural',\n",
       " 'aid',\n",
       " 'air',\n",
       " 'aircraft',\n",
       " 'alcohol',\n",
       " 'alike',\n",
       " 'alleged',\n",
       " 'alleges',\n",
       " 'allegiance',\n",
       " 'alleging',\n",
       " 'allowance',\n",
       " 'allowances',\n",
       " 'allowed',\n",
       " 'alter',\n",
       " 'alteration',\n",
       " 'altered',\n",
       " 'altering',\n",
       " 'ambassador',\n",
       " 'ambassadors',\n",
       " 'amend',\n",
       " 'amended',\n",
       " 'amending',\n",
       " 'amendment',\n",
       " 'amendments',\n",
       " 'amends',\n",
       " 'amounts',\n",
       " 'animals',\n",
       " 'announcement',\n",
       " 'annual',\n",
       " 'annually',\n",
       " 'anthem',\n",
       " 'appeal',\n",
       " 'appeals',\n",
       " 'appear',\n",
       " 'appearing',\n",
       " 'appears',\n",
       " 'appellate',\n",
       " 'applicable',\n",
       " 'application',\n",
       " 'applied',\n",
       " 'applies',\n",
       " 'apply',\n",
       " 'applying',\n",
       " 'appoint',\n",
       " 'appointed',\n",
       " 'appointing',\n",
       " 'appointment',\n",
       " 'appointments',\n",
       " 'appropriate',\n",
       " 'appropriated',\n",
       " 'appropriation',\n",
       " 'approval',\n",
       " 'approve',\n",
       " 'approved',\n",
       " 'april',\n",
       " 'area',\n",
       " 'areas',\n",
       " 'arise',\n",
       " 'arisen',\n",
       " 'arises',\n",
       " 'arising',\n",
       " 'armed',\n",
       " 'army',\n",
       " 'arrangement',\n",
       " 'arranging',\n",
       " 'arrest',\n",
       " 'arrested',\n",
       " 'art',\n",
       " 'article',\n",
       " 'articles',\n",
       " 'ascertained',\n",
       " 'ascertains',\n",
       " 'ask',\n",
       " 'assemble',\n",
       " 'assembly',\n",
       " 'assent',\n",
       " 'assented',\n",
       " 'assets',\n",
       " 'assign',\n",
       " 'assigned',\n",
       " 'assignment',\n",
       " 'assist',\n",
       " 'assistance',\n",
       " 'assistant',\n",
       " 'assisted',\n",
       " 'associate',\n",
       " 'association',\n",
       " 'associations',\n",
       " 'assume',\n",
       " 'assumed',\n",
       " 'assumes',\n",
       " 'assuming',\n",
       " 'assumption',\n",
       " 'attaching',\n",
       " 'attachment',\n",
       " 'attained',\n",
       " 'attaining',\n",
       " 'attainment',\n",
       " 'attains',\n",
       " 'attend',\n",
       " 'attendance',\n",
       " 'attending',\n",
       " 'attorney',\n",
       " 'attributable',\n",
       " 'audit',\n",
       " 'audited',\n",
       " 'auditor',\n",
       " 'authorise',\n",
       " 'authorised',\n",
       " 'authorities',\n",
       " 'authority',\n",
       " 'authorization',\n",
       " 'authorize',\n",
       " 'authorized',\n",
       " 'authorizes',\n",
       " 'authorizing',\n",
       " 'automatically',\n",
       " 'available',\n",
       " 'awarded',\n",
       " 'b',\n",
       " 'balance',\n",
       " 'ballot',\n",
       " 'bank',\n",
       " 'bankrupt',\n",
       " 'basis',\n",
       " 'bear',\n",
       " 'begin',\n",
       " 'beginning',\n",
       " 'behalf',\n",
       " 'beings',\n",
       " 'belief',\n",
       " 'belong',\n",
       " 'belonging',\n",
       " 'belongs',\n",
       " 'benefit',\n",
       " 'benefits',\n",
       " 'best',\n",
       " 'bills',\n",
       " 'binding',\n",
       " 'birth',\n",
       " 'board',\n",
       " 'bodies',\n",
       " 'body',\n",
       " 'books',\n",
       " 'born',\n",
       " 'bound',\n",
       " 'boundaries',\n",
       " 'branch',\n",
       " 'breach',\n",
       " 'bring',\n",
       " 'bringing',\n",
       " 'british',\n",
       " 'broadcasting',\n",
       " 'brought',\n",
       " 'budget',\n",
       " 'burden',\n",
       " 'burial',\n",
       " 'business',\n",
       " 'c',\n",
       " 'cabinet',\n",
       " 'calamity',\n",
       " 'calculated',\n",
       " 'calculating',\n",
       " 'called',\n",
       " 'came',\n",
       " 'candidate',\n",
       " 'candidates',\n",
       " 'capacity',\n",
       " 'capital',\n",
       " 'care',\n",
       " 'carried',\n",
       " 'carry',\n",
       " 'carrying',\n",
       " 'case',\n",
       " 'cases',\n",
       " 'cast',\n",
       " 'casting',\n",
       " 'cause',\n",
       " 'causing',\n",
       " 'cease',\n",
       " 'ceased',\n",
       " 'ceases',\n",
       " 'ceasing',\n",
       " 'census',\n",
       " 'central',\n",
       " 'ceremony',\n",
       " 'certain',\n",
       " 'certificate',\n",
       " 'certified',\n",
       " 'certify',\n",
       " 'chairman',\n",
       " 'change',\n",
       " 'changes',\n",
       " 'chapter',\n",
       " 'character',\n",
       " 'charge',\n",
       " 'charged',\n",
       " 'charges',\n",
       " 'chief',\n",
       " 'chiefs',\n",
       " 'children',\n",
       " 'choice',\n",
       " 'chosen',\n",
       " 'circumstances',\n",
       " 'cited',\n",
       " 'citizen',\n",
       " 'citizens',\n",
       " 'citizenship',\n",
       " 'civic',\n",
       " 'civil',\n",
       " 'claim',\n",
       " 'claimed',\n",
       " 'claims',\n",
       " 'class',\n",
       " 'clause',\n",
       " 'clerk',\n",
       " 'cognate',\n",
       " 'collection',\n",
       " 'collectively',\n",
       " 'college',\n",
       " 'colour',\n",
       " 'com',\n",
       " 'come',\n",
       " 'comes',\n",
       " 'coming',\n",
       " 'command',\n",
       " 'commander',\n",
       " 'commence',\n",
       " 'commenced',\n",
       " 'commencement',\n",
       " 'commencing',\n",
       " 'commercial',\n",
       " 'commission',\n",
       " 'commissioner',\n",
       " 'commissioners',\n",
       " 'commissions',\n",
       " 'commit',\n",
       " 'committed',\n",
       " 'committee',\n",
       " 'committees',\n",
       " 'common',\n",
       " 'commonwealth',\n",
       " 'communal',\n",
       " 'communicate',\n",
       " 'communicated',\n",
       " 'communication',\n",
       " 'communications',\n",
       " 'communities',\n",
       " 'community',\n",
       " 'company',\n",
       " 'compelled',\n",
       " 'compensation',\n",
       " 'competent',\n",
       " 'compilation',\n",
       " 'complete',\n",
       " 'completed',\n",
       " 'completion',\n",
       " 'compliance',\n",
       " 'complied',\n",
       " 'comply',\n",
       " 'composed',\n",
       " 'composition',\n",
       " 'comprise',\n",
       " 'comprised',\n",
       " 'compulsorily',\n",
       " 'compulsory',\n",
       " 'concerned',\n",
       " 'concerning',\n",
       " 'conclusive',\n",
       " 'concurrence',\n",
       " 'concurs',\n",
       " 'condition',\n",
       " 'conditions',\n",
       " 'conduct',\n",
       " 'conducted',\n",
       " 'conducts',\n",
       " 'confer',\n",
       " 'conferred',\n",
       " 'conferring',\n",
       " 'confers',\n",
       " 'confidence',\n",
       " 'confirm',\n",
       " 'confirmation',\n",
       " 'confirmed',\n",
       " 'conform',\n",
       " 'conformity',\n",
       " 'connected',\n",
       " 'connection',\n",
       " 'conscience',\n",
       " 'conscientious',\n",
       " 'consecutive',\n",
       " 'consecutively',\n",
       " 'consent',\n",
       " 'consequence',\n",
       " 'conservation',\n",
       " 'consider',\n",
       " 'consideration',\n",
       " 'considered',\n",
       " 'considers',\n",
       " 'consist',\n",
       " 'consistent',\n",
       " 'consisting',\n",
       " 'consists',\n",
       " 'consolidated',\n",
       " 'consti',\n",
       " 'constituencies',\n",
       " 'constituency',\n",
       " 'constitute',\n",
       " 'constituted',\n",
       " 'constituting',\n",
       " 'constitution',\n",
       " 'constitutional',\n",
       " 'construed',\n",
       " 'consult',\n",
       " 'consultation',\n",
       " 'contagious',\n",
       " 'contain',\n",
       " 'contained',\n",
       " 'containing',\n",
       " 'contains',\n",
       " 'contempt',\n",
       " 'context',\n",
       " 'contingencies',\n",
       " 'continuance',\n",
       " 'continue',\n",
       " 'continued',\n",
       " 'continues',\n",
       " 'continuing',\n",
       " 'continuous',\n",
       " 'contract',\n",
       " 'contracts',\n",
       " 'contrary',\n",
       " 'contravened',\n",
       " 'contravention',\n",
       " 'control',\n",
       " 'convene',\n",
       " 'convened',\n",
       " 'convenient',\n",
       " 'convention',\n",
       " 'conventions',\n",
       " 'conveyed',\n",
       " 'conveying',\n",
       " 'convicted',\n",
       " 'convicting',\n",
       " 'conviction',\n",
       " 'copy',\n",
       " 'corporate',\n",
       " 'correspondence',\n",
       " 'corresponding',\n",
       " 'cost',\n",
       " 'costs',\n",
       " 'council',\n",
       " 'councils',\n",
       " 'countries',\n",
       " 'country',\n",
       " 'course',\n",
       " 'court',\n",
       " 'courts',\n",
       " 'create',\n",
       " 'created',\n",
       " 'creation',\n",
       " 'creed',\n",
       " 'crimes',\n",
       " 'criminal',\n",
       " 'crown',\n",
       " 'currency',\n",
       " 'current',\n",
       " 'custody',\n",
       " 'custom',\n",
       " 'customary',\n",
       " 'customs',\n",
       " 'd',\n",
       " 'dangerous',\n",
       " 'date',\n",
       " 'day',\n",
       " 'days',\n",
       " 'deal',\n",
       " 'dealing',\n",
       " 'death',\n",
       " 'debate',\n",
       " 'debates',\n",
       " 'debt',\n",
       " 'deceased',\n",
       " 'december',\n",
       " 'decide',\n",
       " 'decided',\n",
       " 'decides',\n",
       " 'decision',\n",
       " 'decisions',\n",
       " 'declaration',\n",
       " 'declare',\n",
       " 'declared',\n",
       " 'declaring',\n",
       " 'decree',\n",
       " 'deemed',\n",
       " 'default',\n",
       " 'defence',\n",
       " 'defend',\n",
       " 'defense',\n",
       " 'defined',\n",
       " 'definition',\n",
       " 'defraying',\n",
       " 'degrading',\n",
       " 'degree',\n",
       " 'delay',\n",
       " 'delegate',\n",
       " 'delegated',\n",
       " 'delegation',\n",
       " 'deliberate',\n",
       " 'delicto',\n",
       " 'deliver',\n",
       " 'delivered',\n",
       " 'democracy',\n",
       " 'democratic',\n",
       " 'denomination',\n",
       " 'density',\n",
       " 'depart',\n",
       " 'department',\n",
       " 'departments',\n",
       " 'depend',\n",
       " 'dependants',\n",
       " 'dependency',\n",
       " 'deprivation',\n",
       " 'deprived',\n",
       " 'deputies',\n",
       " 'deputy',\n",
       " 'derived',\n",
       " 'derogation',\n",
       " 'described',\n",
       " 'description',\n",
       " 'descriptions',\n",
       " 'designate',\n",
       " 'designated',\n",
       " 'designating',\n",
       " 'designation',\n",
       " 'designed',\n",
       " 'desirable',\n",
       " 'detained',\n",
       " 'detention',\n",
       " 'deter',\n",
       " 'determination',\n",
       " 'determine',\n",
       " 'determined',\n",
       " 'determines',\n",
       " 'determining',\n",
       " 'development',\n",
       " 'devolution',\n",
       " 'did',\n",
       " 'died',\n",
       " 'dies',\n",
       " 'different',\n",
       " 'dignity',\n",
       " 'direct',\n",
       " 'directed',\n",
       " 'direction',\n",
       " 'directions',\n",
       " 'directly',\n",
       " 'director',\n",
       " 'directs',\n",
       " 'dis',\n",
       " 'disabilities',\n",
       " 'disability',\n",
       " 'disadvantage',\n",
       " 'discharge',\n",
       " 'discharging',\n",
       " 'disciplinary',\n",
       " 'discipline',\n",
       " 'disciplined',\n",
       " 'disclosure',\n",
       " 'discontinuance',\n",
       " 'discontinue',\n",
       " 'discretion',\n",
       " 'discrimination',\n",
       " 'discriminatory',\n",
       " 'discussion',\n",
       " 'disease',\n",
       " 'dismiss',\n",
       " 'dismissal',\n",
       " 'dismissed',\n",
       " 'dispose',\n",
       " 'dispute',\n",
       " 'disqualification',\n",
       " 'disqualifications',\n",
       " 'disqualified',\n",
       " 'disqualify',\n",
       " 'dissolution',\n",
       " 'dissolve',\n",
       " 'dissolved',\n",
       " 'distinction',\n",
       " 'distribution',\n",
       " 'district',\n",
       " 'districts',\n",
       " 'divided',\n",
       " 'dividing',\n",
       " 'division',\n",
       " 'divorce',\n",
       " 'document',\n",
       " 'documents',\n",
       " 'does',\n",
       " 'domain',\n",
       " 'doubt',\n",
       " 'draw',\n",
       " 'drawn',\n",
       " 'drugs',\n",
       " 'duly',\n",
       " 'duration',\n",
       " 'duties',\n",
       " 'duty',\n",
       " 'e',\n",
       " 'earlier',\n",
       " 'east',\n",
       " 'economic',\n",
       " 'ed',\n",
       " 'education',\n",
       " 'educational',\n",
       " 'effect',\n",
       " 'effected',\n",
       " 'effecting',\n",
       " 'effective',\n",
       " 'effectively',\n",
       " 'eighteen',\n",
       " 'elapsed',\n",
       " 'elect',\n",
       " 'elected',\n",
       " 'electing',\n",
       " 'election',\n",
       " 'elections',\n",
       " 'electoral',\n",
       " 'eligibility',\n",
       " 'eligible',\n",
       " 'emblem',\n",
       " 'emergency',\n",
       " 'emolument',\n",
       " 'emoluments',\n",
       " 'employed',\n",
       " 'employment',\n",
       " 'empowered',\n",
       " 'enable',\n",
       " 'enabling',\n",
       " 'enact',\n",
       " 'enacted',\n",
       " 'enactment',\n",
       " 'enacts',\n",
       " 'end',\n",
       " 'ending',\n",
       " 'enemy',\n",
       " 'enforced',\n",
       " 'enforcement',\n",
       " 'enforcing',\n",
       " 'engage',\n",
       " 'english',\n",
       " 'enjoy',\n",
       " 'enjoyment',\n",
       " 'ensure',\n",
       " 'ensuring',\n",
       " 'enter',\n",
       " 'entered',\n",
       " 'entering',\n",
       " 'entitled',\n",
       " 'entry',\n",
       " 'envoys',\n",
       " 'equal',\n",
       " 'equality',\n",
       " 'equally',\n",
       " 'equivalent',\n",
       " 'escape',\n",
       " 'establish',\n",
       " 'established',\n",
       " 'establishment',\n",
       " 'estimate',\n",
       " 'estimates',\n",
       " 'event',\n",
       " 'evidence',\n",
       " 'ex',\n",
       " 'examination',\n",
       " 'examine',\n",
       " 'exceed',\n",
       " 'exceeding',\n",
       " 'exceeds',\n",
       " 'exception',\n",
       " 'exceptions',\n",
       " 'excess',\n",
       " 'exchange',\n",
       " 'excluding',\n",
       " 'exclusion',\n",
       " 'exclusive',\n",
       " 'excuse',\n",
       " 'executed',\n",
       " 'execution',\n",
       " 'executive',\n",
       " 'exercisable',\n",
       " 'exercise',\n",
       " 'exercised',\n",
       " 'exercises',\n",
       " 'exercising',\n",
       " 'existence',\n",
       " 'existing',\n",
       " 'exists',\n",
       " 'expediency',\n",
       " 'expedient',\n",
       " 'expended',\n",
       " 'expenditure',\n",
       " 'expense',\n",
       " 'expenses',\n",
       " 'expiration',\n",
       " 'expire',\n",
       " 'expired',\n",
       " 'expiry',\n",
       " 'exploitation',\n",
       " 'express',\n",
       " 'expressed',\n",
       " 'expression',\n",
       " 'expressions',\n",
       " 'expressly',\n",
       " 'expulsion',\n",
       " 'extend',\n",
       " 'extended',\n",
       " 'extent',\n",
       " 'extradition',\n",
       " 'extraordinary',\n",
       " 'f',\n",
       " 'facilities',\n",
       " 'fact',\n",
       " 'facts',\n",
       " 'failed',\n",
       " 'fails',\n",
       " 'failure',\n",
       " 'fair',\n",
       " 'faith',\n",
       " 'faithfully',\n",
       " 'fall',\n",
       " 'falling',\n",
       " 'falls',\n",
       " 'family',\n",
       " 'far',\n",
       " 'father',\n",
       " 'favor',\n",
       " 'favour',\n",
       " 'features',\n",
       " 'fee',\n",
       " 'fees',\n",
       " 'fifth',\n",
       " 'filed',\n",
       " 'filled',\n",
       " 'final',\n",
       " 'finally',\n",
       " 'finance',\n",
       " 'financial',\n",
       " 'fine',\n",
       " 'fit',\n",
       " 'fixed',\n",
       " 'flag',\n",
       " 'flagrante',\n",
       " 'follow',\n",
       " 'followed',\n",
       " 'following',\n",
       " 'follows',\n",
       " 'force',\n",
       " 'forced',\n",
       " 'forces',\n",
       " 'foregoing',\n",
       " 'foreign',\n",
       " 'forfeiture',\n",
       " 'form',\n",
       " 'formed',\n",
       " 'forming',\n",
       " 'forms',\n",
       " 'forth',\n",
       " 'forthwith',\n",
       " 'founded',\n",
       " 'fourteen',\n",
       " 'fourth',\n",
       " 'free',\n",
       " 'freedom',\n",
       " 'freedoms',\n",
       " 'freely',\n",
       " 'french',\n",
       " 'frivolous',\n",
       " 'fulfil',\n",
       " 'fulfilment',\n",
       " 'fully',\n",
       " 'function',\n",
       " 'functioning',\n",
       " 'functions',\n",
       " 'fund',\n",
       " 'fundamental',\n",
       " 'funds',\n",
       " 'furnish',\n",
       " 'furnished',\n",
       " 'future',\n",
       " 'g',\n",
       " 'gazette',\n",
       " 'general',\n",
       " 'generality',\n",
       " 'generally',\n",
       " 'geographical',\n",
       " 'ghana',\n",
       " 'given',\n",
       " 'giving',\n",
       " 'god',\n",
       " 'good',\n",
       " 'govern',\n",
       " 'governing',\n",
       " 'government',\n",
       " 'governmental',\n",
       " 'governor',\n",
       " 'grant',\n",
       " 'granted',\n",
       " 'granting',\n",
       " 'grants',\n",
       " 'gratuities',\n",
       " 'gratuity',\n",
       " 'greater',\n",
       " 'greatest',\n",
       " 'green',\n",
       " 'ground',\n",
       " 'grounds',\n",
       " 'group',\n",
       " 'groups',\n",
       " 'guarantee',\n",
       " 'guaranteed',\n",
       " 'guarantees',\n",
       " 'guardian',\n",
       " 'guilty',\n",
       " 'h',\n",
       " 'half',\n",
       " 'hand',\n",
       " 'hardship',\n",
       " 'having',\n",
       " 'head',\n",
       " 'heads',\n",
       " 'health',\n",
       " 'hear',\n",
       " 'heard',\n",
       " 'hearing',\n",
       " 'held',\n",
       " 'help',\n",
       " 'hereinafter',\n",
       " 'high',\n",
       " 'higher',\n",
       " 'highest',\n",
       " 'hindered',\n",
       " 'hold',\n",
       " 'holder',\n",
       " 'holders',\n",
       " 'holding',\n",
       " 'holds',\n",
       " 'home',\n",
       " 'horizontal',\n",
       " 'hours',\n",
       " 'house',\n",
       " 'houses',\n",
       " 'human',\n",
       " 'hygiene',\n",
       " 'ideas',\n",
       " 'ii',\n",
       " 'iii',\n",
       " 'ill',\n",
       " 'illness',\n",
       " 'immediately',\n",
       " 'immigration',\n",
       " 'immunities',\n",
       " 'immunity',\n",
       " 'impartial',\n",
       " 'implementation',\n",
       " 'implication',\n",
       " 'importance',\n",
       " 'impose',\n",
       " 'imposed',\n",
       " 'imposes',\n",
       " 'imposing',\n",
       " 'imposition',\n",
       " 'impracticable',\n",
       " 'imprisonment',\n",
       " 'improvement',\n",
       " 'inability',\n",
       " 'incapable',\n",
       " 'incapacitated',\n",
       " 'incapacity',\n",
       " 'incident',\n",
       " 'incidental',\n",
       " 'include',\n",
       " 'included',\n",
       " 'includes',\n",
       " 'including',\n",
       " 'inclusive',\n",
       " 'income',\n",
       " 'incompatible',\n",
       " 'inconsistent',\n",
       " 'increase',\n",
       " 'increased',\n",
       " 'incumbent',\n",
       " 'incurred',\n",
       " 'indefinite',\n",
       " 'independence',\n",
       " 'independent',\n",
       " 'indirectly',\n",
       " 'individual',\n",
       " 'indivisible',\n",
       " 'infectious',\n",
       " 'inferior',\n",
       " 'infirmity',\n",
       " 'infliction',\n",
       " 'inform',\n",
       " 'information',\n",
       " 'informed',\n",
       " 'ing',\n",
       " 'inhabitants',\n",
       " 'inheritance',\n",
       " 'inhuman',\n",
       " 'initiate',\n",
       " 'injurious',\n",
       " 'innocent',\n",
       " 'inquire',\n",
       " 'inquiry',\n",
       " 'insolvent',\n",
       " 'inspector',\n",
       " 'instance',\n",
       " 'instead',\n",
       " 'institute',\n",
       " 'instituted',\n",
       " 'institution',\n",
       " 'institutions',\n",
       " 'instruction',\n",
       " 'instructions',\n",
       " 'instrument',\n",
       " 'insufficient',\n",
       " 'insurrection',\n",
       " 'integrity',\n",
       " 'intention',\n",
       " 'intentionally',\n",
       " 'inter',\n",
       " 'interests',\n",
       " 'interference',\n",
       " 'interlocutory',\n",
       " 'internal',\n",
       " 'international',\n",
       " 'interpretation',\n",
       " 'interpreter',\n",
       " 'interval',\n",
       " 'intervals',\n",
       " 'intervene',\n",
       " 'intervention',\n",
       " 'introduce',\n",
       " 'introduced',\n",
       " 'invalidate',\n",
       " 'invested',\n",
       " 'investigate',\n",
       " 'investigated',\n",
       " 'investigation',\n",
       " 'investment',\n",
       " 'inviolable',\n",
       " 'involve',\n",
       " 'involved',\n",
       " 'involves',\n",
       " 'involving',\n",
       " 'ireland',\n",
       " 'issue',\n",
       " 'issued',\n",
       " 'iv',\n",
       " 'ix',\n",
       " 'j',\n",
       " 'january',\n",
       " 'joint',\n",
       " 'judge',\n",
       " 'judges',\n",
       " 'judgment',\n",
       " 'judgments',\n",
       " 'judicature',\n",
       " 'judicial',\n",
       " 'judiciary',\n",
       " 'july',\n",
       " 'june',\n",
       " 'jurisdiction',\n",
       " 'just',\n",
       " 'justice',\n",
       " 'justices',\n",
       " 'justifiable',\n",
       " 'justification',\n",
       " 'k',\n",
       " 'keeping',\n",
       " 'kept',\n",
       " 'kind',\n",
       " 'kingdom',\n",
       " 'knowing',\n",
       " 'knowledge',\n",
       " 'known',\n",
       " 'l',\n",
       " 'labour',\n",
       " 'laid',\n",
       " 'land',\n",
       " 'language',\n",
       " 'later',\n",
       " 'latest',\n",
       " 'law',\n",
       " 'lawful',\n",
       " 'lawfully',\n",
       " 'laws',\n",
       " 'lay',\n",
       " 'leader',\n",
       " 'lease',\n",
       " 'leave',\n",
       " 'legal',\n",
       " 'legality',\n",
       " 'legislation',\n",
       " 'legislative',\n",
       " 'legislature',\n",
       " 'leone',\n",
       " 'levied',\n",
       " ...]"
      ]
     },
     "execution_count": 254,
     "metadata": {},
     "output_type": "execute_result"
    }
   ],
   "source": [
    "vocab"
   ]
  },
  {
   "cell_type": "markdown",
   "metadata": {},
   "source": [
    "Try different values for **min_df** and rerun the CountVectorizer function. How does this change the size of dtm and the vocab?\n",
    "\n",
    "Also note that many strings in our vocab list are numeric. Do you want to keep these numbers in your analysis? If not, how would you adjust the CountVectorizer function to remove them?"
   ]
  },
  {
   "cell_type": "code",
   "execution_count": 252,
   "metadata": {},
   "outputs": [],
   "source": [
    "vectorizer = CountVectorizer(input='filename', \n",
    "                             encoding= 'ISO-8859-1',\n",
    "                             stop_words='english',\n",
    "                             min_df = 15,\n",
    "                             decode_error='ignore', \n",
    "                            token_pattern=r'\\b[^\\d\\W]+\\b') # regular expression to capture non-digit words\n",
    "\n",
    "dtm = vectorizer.fit_transform(raw_documents=constitutions.abspaths())  # .abspaths() provides the absolute filepath to every document in our corpus\n",
    "\n",
    "vocab = vectorizer.get_feature_names()  # a list"
   ]
  },
  {
   "cell_type": "code",
   "execution_count": 261,
   "metadata": {},
   "outputs": [
    {
     "data": {
      "text/plain": [
       "(56, 1887)"
      ]
     },
     "execution_count": 261,
     "metadata": {},
     "output_type": "execute_result"
    }
   ],
   "source": [
    "dtm.shape"
   ]
  },
  {
   "cell_type": "markdown",
   "metadata": {},
   "source": [
    "### The document term matrix\n",
    "\n",
    "Countvectorizer returns a certain type of matrix object."
   ]
  },
  {
   "cell_type": "code",
   "execution_count": 267,
   "metadata": {},
   "outputs": [
    {
     "data": {
      "text/plain": [
       "<56x2564 sparse matrix of type '<class 'numpy.int64'>'\n",
       "\twith 67197 stored elements in Compressed Sparse Row format>"
      ]
     },
     "execution_count": 267,
     "metadata": {},
     "output_type": "execute_result"
    }
   ],
   "source": [
    "dtm # the dtm is currently a sparse matrix"
   ]
  },
  {
   "cell_type": "markdown",
   "metadata": {},
   "source": [
    "### What is a sparse matrix?\n",
    "\n",
    "Imagine you have a matrix with hundreds of thousands of elements and only a few of those elements contain non-zero values. Most text data is like this because of the way we are representing the texts as word counts across the entire corpora. While we could look at the entire matrix with all of its zero *and* nonzero entries (a.k.a. **dense matrix**), there are much more efficient methods of dealing with such data.\n",
    "\n",
    "A **sparse matrix** is a special type of data structure that only records **non-zero entries**, which is much more efficient in terms of memory and computing time. This is why CountVectorizer returns a sparse matrix by default.\n",
    "\n",
    "When we look at the CountVectorizer dtm object, we can see how a sparse matrix is structured. There are two arrays printed below, where the first array points to the index of a non-zero entry (i.e. the word), and the second array contains the value of that non-zero entry (i.e. the word count). "
   ]
  },
  {
   "cell_type": "code",
   "execution_count": 268,
   "metadata": {},
   "outputs": [
    {
     "name": "stdout",
     "output_type": "stream",
     "text": [
      "  (0, 1187)\t1\n",
      "  (0, 2162)\t1\n",
      "  (0, 1962)\t1\n",
      "  (0, 1006)\t1\n",
      "  (0, 27)\t1\n",
      "  (0, 2129)\t1\n",
      "  (0, 582)\t1\n",
      "  (0, 2116)\t1\n",
      "  (0, 2017)\t1\n",
      "  (0, 1134)\t1\n",
      "  (0, 782)\t1\n",
      "  (0, 365)\t1\n",
      "  (0, 1521)\t1\n",
      "  (0, 1680)\t1\n",
      "  (0, 1388)\t1\n",
      "  (0, 1673)\t1\n",
      "  (0, 1045)\t1\n",
      "  (0, 194)\t1\n",
      "  (0, 1004)\t1\n",
      "  (0, 26)\t1\n",
      "  (0, 2331)\t1\n",
      "  (0, 196)\t1\n",
      "  (0, 25)\t1\n",
      "  (0, 1641)\t1\n",
      "  (0, 2095)\t1\n",
      "  :\t:\n",
      "  (55, 397)\t233\n",
      "  (55, 1583)\t186\n",
      "  (55, 2451)\t3\n",
      "  (55, 796)\t26\n",
      "  (55, 2454)\t2\n",
      "  (55, 827)\t7\n",
      "  (55, 1326)\t4\n",
      "  (55, 767)\t1\n",
      "  (55, 2244)\t3\n",
      "  (55, 947)\t2\n",
      "  (55, 1728)\t1\n",
      "  (55, 2135)\t23\n",
      "  (55, 1182)\t3\n",
      "  (55, 1232)\t19\n",
      "  (55, 1741)\t289\n",
      "  (55, 1259)\t2\n",
      "  (55, 874)\t2\n",
      "  (55, 736)\t6\n",
      "  (55, 469)\t4\n",
      "  (55, 593)\t5\n",
      "  (55, 1804)\t6\n",
      "  (55, 1391)\t4\n",
      "  (55, 1405)\t1\n",
      "  (55, 1419)\t1\n",
      "  (55, 697)\t194\n"
     ]
    }
   ],
   "source": [
    "print(dtm) # this is what the sparse matrix looks like"
   ]
  },
  {
   "cell_type": "markdown",
   "metadata": {},
   "source": [
    "### Coverting to numpy array\n",
    "\n",
    "Before we can query the matrix and discover how many times certain words appear in each constitution, we need to convert this matrix from its current format, a sparse matrix, into a normal NumPy array. We will also convert the Python list storing our vocabulary, vocab, into a NumPy array, because array objects support more operations than a list."
   ]
  },
  {
   "cell_type": "code",
   "execution_count": 255,
   "metadata": {},
   "outputs": [],
   "source": [
    "dtm = dtm.toarray()  # convert to a regular array\n",
    "vocab = np.array(vocab)"
   ]
  },
  {
   "cell_type": "code",
   "execution_count": 256,
   "metadata": {},
   "outputs": [
    {
     "data": {
      "text/plain": [
       "numpy.ndarray"
      ]
     },
     "execution_count": 256,
     "metadata": {},
     "output_type": "execute_result"
    }
   ],
   "source": [
    "type(dtm) # note the new type"
   ]
  },
  {
   "cell_type": "code",
   "execution_count": 263,
   "metadata": {},
   "outputs": [
    {
     "name": "stdout",
     "output_type": "stream",
     "text": [
      "[[  1   0   1 ...   4   0   0]\n",
      " [  0   0   0 ...   2   3   0]\n",
      " [  0   0   0 ...   6   0   0]\n",
      " ...\n",
      " [  1   1   2 ...  34   1 147]\n",
      " [  1   1   2 ...  35   1 140]\n",
      " [  1   2   2 ...  29   0  70]]\n"
     ]
    },
    {
     "data": {
      "text/plain": [
       "(56, 1887)"
      ]
     },
     "execution_count": 263,
     "metadata": {},
     "output_type": "execute_result"
    }
   ],
   "source": [
    "print(dtm) # is this a sparse or dense matrix?\n",
    "\n",
    "dtm.shape"
   ]
  },
  {
   "cell_type": "code",
   "execution_count": 259,
   "metadata": {},
   "outputs": [
    {
     "name": "stdout",
     "output_type": "stream",
     "text": [
      "['able' 'abolish' 'abolished' ... 'years' 'youth' 'â']\n"
     ]
    }
   ],
   "source": [
    "print(vocab)"
   ]
  },
  {
   "cell_type": "markdown",
   "metadata": {},
   "source": [
    "### Exploring the dtm\n",
    "With this preparatory work behind us, querying the document-term matrix is simple. Below, here are two ways to find out how many times the word ‘president’ appears in the first document (constitution) in our corpus."
   ]
  },
  {
   "cell_type": "code",
   "execution_count": 277,
   "metadata": {},
   "outputs": [
    {
     "data": {
      "text/plain": [
       "'Constitution-Kenya-1983.txt'"
      ]
     },
     "execution_count": 277,
     "metadata": {},
     "output_type": "execute_result"
    }
   ],
   "source": [
    "filenames[0]"
   ]
  },
  {
   "cell_type": "code",
   "execution_count": 275,
   "metadata": {},
   "outputs": [
    {
     "data": {
      "text/plain": [
       "0"
      ]
     },
     "execution_count": 275,
     "metadata": {},
     "output_type": "execute_result"
    }
   ],
   "source": [
    "dtm[0, vocab == 'president']"
   ]
  },
  {
   "cell_type": "code",
   "execution_count": 276,
   "metadata": {},
   "outputs": [
    {
     "data": {
      "text/plain": [
       "0"
      ]
     },
     "execution_count": 276,
     "metadata": {},
     "output_type": "execute_result"
    }
   ],
   "source": [
    "dtm[1, vocab == ['president']]"
   ]
  },
  {
   "attachments": {
    "image.png": {
     "image/png": "[encoded data removed]"
    }
   },
   "cell_type": "markdown",
   "metadata": {},
   "source": [
    "## Comparing texts\n",
    "\n",
    "Arranging our texts as a document-term matrix allows us to do a lot of exploratory analysis using computational techniques.\n",
    "\n",
    "For example, we can now easily calculate a measure of similarity between texts. Since each row of the document-term matrix is a sequence of word frequencies for a given constitution, we can use the similarity (or distance) between sequences of numbers in order to calculate the similarity (or distance) between any two constitutions.\n",
    "\n",
    "### Euclidean distance\n",
    "\n",
    "One frequently used measure of distance between vectors (a measure easily converted into a measure of similarity) is Euclidean distance. The Euclidean distance between two vectors in a plane is the length of the hypotenuse that joins the two vectors. For instance, consider the Euclidean distance between the vectors x⃗ =(1,3)\n",
    "and y⃗ =(4,2). The distance between the two vectors is $\\sqrt{(1−4)^2+(3−2)^2} = \\sqrt{10}$.\n",
    "\n",
    "![image.png](attachment:image.png)\n",
    "\n",
    "\n",
    "Generally speaking, given two vectors x⃗ and y⃗ in p-dimensional space, the Euclidean distance between the two vectors is given by $||x⃗ −y⃗ || = \\sum_i^p\\sqrt{(x_i−y_i)^2}$\n",
    "\n",
    "Because we have now expressed the constitutions in our corpus as vectors, we can calculate the Euclidean distance between any two constitutions. Conveniently, scikit-learn already has a function that is precisely for this task."
   ]
  },
  {
   "cell_type": "code",
   "execution_count": 278,
   "metadata": {},
   "outputs": [],
   "source": [
    "from sklearn.metrics.pairwise import euclidean_distances\n",
    "\n",
    "dist = euclidean_distances(dtm)"
   ]
  },
  {
   "cell_type": "code",
   "execution_count": 279,
   "metadata": {},
   "outputs": [
    {
     "data": {
      "text/plain": [
       "array([[   0.,  155.,  154., ..., 1117., 1115.,  917.],\n",
       "       [ 155.,    0.,  122., ..., 1133., 1130.,  928.],\n",
       "       [ 154.,  122.,    0., ..., 1094., 1091.,  892.],\n",
       "       ...,\n",
       "       [1117., 1133., 1094., ...,    0.,   54.,  320.],\n",
       "       [1115., 1130., 1091., ...,   54.,    0.,  314.],\n",
       "       [ 917.,  928.,  892., ...,  320.,  314.,    0.]])"
      ]
     },
     "execution_count": 279,
     "metadata": {},
     "output_type": "execute_result"
    }
   ],
   "source": [
    "dist\n",
    "\n",
    "np.round(dist, 0) # easier to print output if we round to the nearest integer"
   ]
  },
  {
   "cell_type": "code",
   "execution_count": 280,
   "metadata": {},
   "outputs": [
    {
     "data": {
      "text/plain": [
       "(56, 56)"
      ]
     },
     "execution_count": 280,
     "metadata": {},
     "output_type": "execute_result"
    }
   ],
   "source": [
    "dist.shape # what do the dimensions of this array represent?"
   ]
  },
  {
   "cell_type": "code",
   "execution_count": 281,
   "metadata": {},
   "outputs": [
    {
     "data": {
      "text/plain": [
       "('Constitution-Ghana-1957.txt',\n",
       " 'Constitution-Sudan-1958.txt',\n",
       " 'Constitution-Chad-1962.txt',\n",
       " 'Constitution-Madagascar-1962.txt')"
      ]
     },
     "execution_count": 281,
     "metadata": {},
     "output_type": "execute_result"
    }
   ],
   "source": [
    "filenames[1], filenames[2], filenames[3], filenames[4] #remind ourselves of which text is which"
   ]
  },
  {
   "cell_type": "code",
   "execution_count": 324,
   "metadata": {},
   "outputs": [
    {
     "data": {
      "text/plain": [
       "0.13495388486992588"
      ]
     },
     "execution_count": 324,
     "metadata": {},
     "output_type": "execute_result"
    }
   ],
   "source": [
    "dist[1, 2]\n",
    "\n",
    "# np.round(dist[1, 2], 0)"
   ]
  },
  {
   "cell_type": "code",
   "execution_count": 283,
   "metadata": {},
   "outputs": [
    {
     "data": {
      "text/plain": [
       "True"
      ]
     },
     "execution_count": 283,
     "metadata": {},
     "output_type": "execute_result"
    }
   ],
   "source": [
    "dist[1, 3] > dist[3, 4]"
   ]
  },
  {
   "cell_type": "markdown",
   "metadata": {},
   "source": [
    "### Cosine similarity\n",
    "\n",
    "If we want to use a measure of distance that takes into consideration the length of texts, we can calculate the cosine similarity by importing sklearn.metrics.pairwise.cosine_similarity and use it in place of euclidean_distances.\n",
    "\n",
    "Cosine similarity is a measure of similarity (rather than distance) that ranges between 0 and 1 (i.e. the cosine of the angle between two vectors). More specifically, it is a measure of similarity between two non-zero vectors of an inner product space that measures the cosine of the angle between them. It is thus a judgment of *orientation* and *not magnitude*: two vectors with the same orientation have a cosine similarity of 1, two vectors oriented at 90° relative to each other have a cosine similarity of 0, and two vectors diametrically opposed have a similarity of -1, independent of their magnitude. \n",
    "\n",
    "The cosine similarity is advantageous because even if the two similar documents are far apart by the Euclidean distance (due to the size of the document), chances are they may still be oriented closer together. ___The smaller the angle, the higher the cosine similarity___.\n",
    "\n",
    "In order to get a measure of distance (or dissimilarity), we need to “flip” the measure so that a larger angle receives a larger value. The distance measure derived from cosine similarity is therefore one minus the cosine similarity between two vectors."
   ]
  },
  {
   "cell_type": "code",
   "execution_count": 325,
   "metadata": {},
   "outputs": [
    {
     "data": {
      "text/plain": [
       "array([[0.  , 1.  , 1.  , 1.  ],\n",
       "       [1.  , 0.  , 1.  , 1.  ],\n",
       "       [1.  , 1.  , 0.  , 0.85],\n",
       "       [1.  , 1.  , 0.85, 0.  ]])"
      ]
     },
     "execution_count": 325,
     "metadata": {},
     "output_type": "execute_result"
    }
   ],
   "source": [
    "from sklearn.metrics.pairwise import cosine_similarity\n",
    "\n",
    "dist = 1 - cosine_similarity(dtm)\n",
    "\n",
    "np.round(dist, 2)"
   ]
  },
  {
   "cell_type": "code",
   "execution_count": 286,
   "metadata": {},
   "outputs": [
    {
     "data": {
      "text/plain": [
       "0.13495388486992588"
      ]
     },
     "execution_count": 286,
     "metadata": {},
     "output_type": "execute_result"
    }
   ],
   "source": [
    "dist[1, 2]"
   ]
  },
  {
   "cell_type": "code",
   "execution_count": 287,
   "metadata": {},
   "outputs": [
    {
     "data": {
      "text/plain": [
       "True"
      ]
     },
     "execution_count": 287,
     "metadata": {},
     "output_type": "execute_result"
    }
   ],
   "source": [
    "dist[1, 3] > dist[3, 4]"
   ]
  },
  {
   "cell_type": "markdown",
   "metadata": {},
   "source": [
    "### Visualizing distances\n",
    "\n",
    "We can visualize the pairwise distances between our texts. A general approach is to assign a point in a plane to each text, making sure that the distance between points is proportional to the pairwise distances we calculated. This kind of visualization is common enough that it has a name, “multidimensional scaling” (MDS) and family of functions in scikit-learn."
   ]
  },
  {
   "cell_type": "code",
   "execution_count": 288,
   "metadata": {},
   "outputs": [],
   "source": [
    "import os \n",
    "import matplotlib.pyplot as plt\n",
    "from sklearn.manifold import MDS"
   ]
  },
  {
   "cell_type": "markdown",
   "metadata": {},
   "source": [
    "In the MDS function:\n",
    "\n",
    "- n_components refers to the dimensions of our plotted plane (2-D)\n",
    "- dissimilarity refers to the distance/similarity measure we want to use, \"euclidean\" by default, \"precomputed\" inputs a dissimilarity matrix"
   ]
  },
  {
   "cell_type": "code",
   "execution_count": 289,
   "metadata": {},
   "outputs": [],
   "source": [
    "mds = MDS(n_components=2, dissimilarity=\"precomputed\", random_state=1)\n",
    "\n",
    "pos = mds.fit_transform(dist)  # shape (n_components, n_samples)"
   ]
  },
  {
   "cell_type": "code",
   "execution_count": 290,
   "metadata": {},
   "outputs": [
    {
     "data": {
      "image/png": "[encoded data removed]",
      "text/plain": [
       "<Figure size 1440x1440 with 1 Axes>"
      ]
     },
     "metadata": {
      "needs_background": "light"
     },
     "output_type": "display_data"
    }
   ],
   "source": [
    "xs, ys = pos[:, 0], pos[:, 1]\n",
    "\n",
    "# store shortened version of filenames to list for plotting \n",
    "names = [os.path.basename(fn).replace('.txt', '') for fn in filenames]\n",
    "\n",
    "plt.figure(figsize=(20, 20))\n",
    "\n",
    "for x, y, name in zip(xs, ys, names):\n",
    "    color = 'orange' if \"Kenya\" in name else 'skyblue'\n",
    "    plt.scatter(x, y, c=color, )\n",
    "    plt.text(x, y, name)\n",
    "\n",
    "plt.show()\n"
   ]
  },
  {
   "cell_type": "markdown",
   "metadata": {},
   "source": [
    "### What does this plot actually show us? \n",
    "\n",
    "In the plotted figure above, we have created a visual representation of the pairwise distance between texts (where distance is represented by X and Y coordinates in a 2-dimensional plane). In looking at this figure, the values on the X and the Y axis are not substantively meaningful on their own, i.e. the 1961 South African Constitution having a coordinate value of (0.01, -0.45) doesn't tell us anything. Rather, what we care about here is the **distance between** the 1961 South African Constitution and any other constitution on the 2-D coordinate plane, e.g. the 1955 Constitution from Liberia or the 1964 Constitution from Zambia. This plot shows us that the South African Constitution is more similar to the 1955 Liberian Constitution than the 1964 Zambian Constitution.\n",
    "\n",
    "So it is the **distance between coordinate values** -- rather than the coordinate values themselves -- which provide substantive meaning.\n",
    "\n",
    "### Clustering texts based on distance\n",
    "\n",
    "One way to explore the corpus is to cluster texts into discrete groups of similar texts.\n",
    "\n",
    "\n",
    "One strategy for clustering is called Ward’s method that produces a hierarchy of clusterings. Ward’s method begins with a set of pairwise distance measurements–such as those we calculated a moment ago. The clustering method is as follows :\n",
    "\n",
    "1. At the start, treat each data point as one cluster. The number of clusters at the start will be K, while K is an integer representing the number of data points.\n",
    "2. Form a cluster by joining the two closest data points resulting in K-1 clusters.\n",
    "3. Form more clusters by joining the two closest clusters resulting in K-2 clusters.\n",
    "4. Repeat the above three steps until one big cluster is formed.\n",
    "5. Once single cluster is formed, dendrograms (tree diagrams) are used to divide into multiple clusters depending upon the problem. \n",
    "\n",
    "The function scipy.cluster.hierarchy.ward performs this algorithm and returns a tree of cluster-merges. The hierarchy of clusters can be visualized using scipy.cluster.hierarchy.dendrogram."
   ]
  },
  {
   "cell_type": "code",
   "execution_count": 291,
   "metadata": {},
   "outputs": [],
   "source": [
    "from scipy.cluster.hierarchy import ward, dendrogram"
   ]
  },
  {
   "cell_type": "code",
   "execution_count": 292,
   "metadata": {},
   "outputs": [
    {
     "data": {
      "image/png": "[encoded data removed]",
      "text/plain": [
       "<Figure size 720x720 with 1 Axes>"
      ]
     },
     "metadata": {
      "needs_background": "light"
     },
     "output_type": "display_data"
    }
   ],
   "source": [
    "linkage_matrix = ward(dist)\n",
    "\n",
    "dendrogram(linkage_matrix, orientation=\"right\", labels=names)\n",
    "\n",
    "plt.tight_layout()\n",
    "plt.show()"
   ]
  },
  {
   "cell_type": "markdown",
   "metadata": {},
   "source": [
    "# Exercises\n",
    "\n",
    "1. Using the strings below as documents and using CountVectorizer with the input='content' parameter, create a document-term matrix. Apart from the input parameter, use the default settings."
   ]
  },
  {
   "cell_type": "code",
   "execution_count": 328,
   "metadata": {},
   "outputs": [],
   "source": [
    "text1 = \"The Fake News is saying that I am willing to meet with Iran, “No Conditions.” That is an incorrect statement (as usual!).\"\n",
    "text2 = \"Here we go again with General Motors and the United Auto Workers. Get together and make a deal!\"\n",
    "text3 = \"Saudi Arabia oil supply was attacked. There is reason to believe that we know the culprit, are locked and loaded depending on verification, but are waiting to hear from the Kingdom as to who they believe was the cause of this attack, and under what terms we would proceed!\"\n",
    "text4 = \"PLENTY OF OIL!\""
   ]
  },
  {
   "cell_type": "code",
   "execution_count": 326,
   "metadata": {},
   "outputs": [],
   "source": [
    "vectorizer = CountVectorizer(input = 'content',\n",
    "                            encoding= 'ISO-8859-1',\n",
    "                             stop_words='english',\n",
    "                             min_df = 1,\n",
    "                             decode_error='ignore')\n",
    "\n",
    "dtm = vectorizer.fit_transform([text1, text2, text3, text4])  # .abspaths() provides the absolute filepath to every document in our corpus\n",
    "\n",
    "vocab = vectorizer.get_feature_names()  # a list"
   ]
  },
  {
   "cell_type": "code",
   "execution_count": 327,
   "metadata": {},
   "outputs": [
    {
     "data": {
      "text/plain": [
       "(4, 38)"
      ]
     },
     "execution_count": 327,
     "metadata": {},
     "output_type": "execute_result"
    }
   ],
   "source": [
    "dtm.shape"
   ]
  },
  {
   "cell_type": "markdown",
   "metadata": {},
   "source": [
    "2. Using the document-term matrix just created, calculate the Euclidean distance and cosine distance between each pair of documents. Make sure to calculate distance (rather than similarity). Are our intuitions about which texts are most similar reflected in the measurements of distance?\n"
   ]
  }
 ],
 "metadata": {
  "kernelspec": {
   "display_name": "Python 3",
   "language": "python",
   "name": "python3"
  },
  "language_info": {
   "codemirror_mode": {
    "name": "ipython",
    "version": 3
   },
   "file_extension": ".py",
   "mimetype": "text/x-python",
   "name": "python",
   "nbconvert_exporter": "python",
   "pygments_lexer": "ipython3",
   "version": "3.7.4"
  }
 },
 "nbformat": 4,
 "nbformat_minor": 2
}
